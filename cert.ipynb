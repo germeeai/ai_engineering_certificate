{
 "cells": [
  {
   "cell_type": "markdown",
   "id": "35cc0fe6",
   "metadata": {},
   "source": [
    "# AIE7 Certification Challenge - End-to-end Agentic RAG Prototype"
   ]
  },
  {
   "cell_type": "markdown",
   "id": "3be7557f",
   "metadata": {},
   "source": [
    "## Part 1: Environment Variables"
   ]
  },
  {
   "cell_type": "code",
   "execution_count": 10,
   "id": "f121ccb5",
   "metadata": {},
   "outputs": [],
   "source": [
    "import os\n",
    "import getpass\n",
    "\n",
    "os.environ[\"OPENAI_API_KEY\"] = getpass.getpass(\"OpenAI API Key:\")\n",
    "os.environ[\"TAVILY_API_KEY\"] = getpass.getpass(\"TAVILY_API_KEY\")"
   ]
  },
  {
   "cell_type": "code",
   "execution_count": 11,
   "id": "a21b96d5",
   "metadata": {},
   "outputs": [],
   "source": [
    "from uuid import uuid4\n",
    "\n",
    "os.environ[\"LANGCHAIN_TRACING_V2\"] = \"true\"\n",
    "os.environ[\"LANGCHAIN_PROJECT\"] = f\"AIE7-cert {uuid4().hex[0:8]}\"\n",
    "os.environ[\"LANGCHAIN_API_KEY\"] = getpass.getpass(\"LangSmith API Key: \")"
   ]
  },
  {
   "cell_type": "code",
   "execution_count": 12,
   "id": "bd581c46",
   "metadata": {},
   "outputs": [],
   "source": [
    "os.environ[\"COHERE_API_KEY\"] = getpass.getpass(\"Cohere API Key:\")"
   ]
  },
  {
   "cell_type": "code",
   "execution_count": 48,
   "id": "1be3bb2d",
   "metadata": {},
   "outputs": [
    {
     "name": "stdout",
     "output_type": "stream",
     "text": [
      "Loaded 85 PDFs + 1 TXTs  →  86 documents\n"
     ]
    }
   ],
   "source": [
    "from langchain_community.document_loaders import DirectoryLoader\n",
    "from langchain_community.document_loaders import PyMuPDFLoader\n",
    "from langchain_community.document_loaders import TextLoader\n",
    "\n",
    "\n",
    "path = \"./rag_dataset/\"\n",
    "loader = DirectoryLoader(path, glob=\"*.pdf\", loader_cls=PyMuPDFLoader)\n",
    "txt_loader = DirectoryLoader(path, glob=\"**/*.txt\", loader_cls=TextLoader,\n",
    ")\n",
    "\n",
    "docs = loader.load()\n",
    "txt = txt_loader.load()\n",
    "all_docs = docs + txt\n",
    "\n",
    "print(f\"Loaded {len(docs)} PDFs + {len(txt)} TXTs  →  {len(all_docs)} documents\")"
   ]
  },
  {
   "cell_type": "markdown",
   "id": "9b73f00d",
   "metadata": {},
   "source": [
    "## Part 2: Tool belt"
   ]
  },
  {
   "cell_type": "code",
   "execution_count": null,
   "id": "7060e95a",
   "metadata": {},
   "outputs": [],
   "source": [
    "import tiktoken\n",
    "from langchain.text_splitter import RecursiveCharacterTextSplitter\n",
    "\n",
    "def tiktoken_len(text):\n",
    "    tokens = tiktoken.encoding_for_model(\"gpt-4o\").encode(\n",
    "        text,\n",
    "    )\n",
    "    return len(tokens)\n",
    "\n",
    "text_splitter = RecursiveCharacterTextSplitter(\n",
    "    chunk_size = 1000,\n",
    "    chunk_overlap = 200,\n",
    "    length_function = tiktoken_len,\n",
    ")\n",
    "\n",
    "finance_resources_chunks = text_splitter.split_documents(all_docs)"
   ]
  },
  {
   "cell_type": "code",
   "execution_count": 50,
   "id": "cda51c6c",
   "metadata": {},
   "outputs": [
    {
     "data": {
      "text/plain": [
       "132"
      ]
     },
     "execution_count": 50,
     "metadata": {},
     "output_type": "execute_result"
    }
   ],
   "source": [
    "len(finance_resources_chunks)"
   ]
  },
  {
   "cell_type": "code",
   "execution_count": 51,
   "id": "3f009526",
   "metadata": {},
   "outputs": [],
   "source": [
    "from operator import itemgetter"
   ]
  },
  {
   "cell_type": "code",
   "execution_count": 53,
   "id": "f8253238",
   "metadata": {},
   "outputs": [],
   "source": [
    "from langchain_openai.embeddings import OpenAIEmbeddings\n",
    "\n",
    "embedding_model = OpenAIEmbeddings(model=\"text-embedding-3-small\")"
   ]
  },
  {
   "cell_type": "code",
   "execution_count": 54,
   "id": "a13fa9a4",
   "metadata": {},
   "outputs": [],
   "source": [
    "from langchain_community.vectorstores import Qdrant\n",
    "\n",
    "qdrant_vectorstore = Qdrant.from_documents(\n",
    "    documents=finance_resources_chunks,\n",
    "    embedding=embedding_model,\n",
    "    location=\":memory:\"\n",
    ")"
   ]
  },
  {
   "cell_type": "code",
   "execution_count": 55,
   "id": "13fa9df1",
   "metadata": {},
   "outputs": [],
   "source": [
    "qdrant_retriever = qdrant_vectorstore.as_retriever()"
   ]
  },
  {
   "cell_type": "code",
   "execution_count": 56,
   "id": "fdebc8af",
   "metadata": {},
   "outputs": [],
   "source": [
    "from langchain_core.prompts import ChatPromptTemplate\n",
    "\n",
    "HUMAN_TEMPLATE = \"\"\"\n",
    "#CONTEXT:\n",
    "{context}\n",
    "\n",
    "QUERY:\n",
    "{query}\n",
    "\n",
    "Use the provide context to answer the provided user query. Only use the provided context to answer the query. If you do not know the answer, or it's not contained in the provided context respond with \"I don't know\"\n",
    "\"\"\"\n",
    "\n",
    "chat_prompt = ChatPromptTemplate.from_messages([\n",
    "    (\"human\", HUMAN_TEMPLATE)\n",
    "])"
   ]
  },
  {
   "cell_type": "code",
   "execution_count": 57,
   "id": "61052ea8",
   "metadata": {},
   "outputs": [],
   "source": [
    "from langchain_openai import ChatOpenAI\n",
    "\n",
    "openai_chat_model = ChatOpenAI(model=\"gpt-4.1-nano\")"
   ]
  },
  {
   "cell_type": "code",
   "execution_count": 58,
   "id": "1a431e0d",
   "metadata": {},
   "outputs": [],
   "source": [
    "from langgraph.graph import START, StateGraph\n",
    "from typing_extensions import TypedDict\n",
    "from langchain_core.documents import Document\n",
    "from langchain_core.output_parsers import StrOutputParser\n",
    "\n",
    "class State(TypedDict):\n",
    "  question: str\n",
    "  context: list[Document]\n",
    "  response: str\n",
    "\n",
    "def retrieve(state: State) -> State:\n",
    "  retrieved_docs = qdrant_retriever.invoke(state[\"question\"])\n",
    "  return {\"context\" : retrieved_docs}\n",
    "\n",
    "def generate(state: State) -> State:\n",
    "  generator_chain = chat_prompt | openai_chat_model | StrOutputParser()\n",
    "  response = generator_chain.invoke({\"query\" : state[\"question\"], \"context\" : state[\"context\"]})\n",
    "  return {\"response\" : response}\n",
    "\n",
    "graph_builder = StateGraph(State)\n",
    "graph_builder = graph_builder.add_sequence([retrieve, generate])\n",
    "graph_builder.add_edge(START, \"retrieve\")\n",
    "rag_graph = graph_builder.compile()"
   ]
  },
  {
   "cell_type": "code",
   "execution_count": 59,
   "id": "b8c5f3e8",
   "metadata": {},
   "outputs": [
    {
     "data": {
      "image/png": "[encoded data removed]",
      "text/plain": [
       "<langgraph.graph.state.CompiledStateGraph object at 0x175c987d0>"
      ]
     },
     "execution_count": 59,
     "metadata": {},
     "output_type": "execute_result"
    }
   ],
   "source": [
    "rag_graph"
   ]
  },
  {
   "cell_type": "code",
   "execution_count": 60,
   "id": "af3fc8f7",
   "metadata": {},
   "outputs": [
    {
     "data": {
      "text/plain": [
       "{'question': 'When do I recognize revenue?',\n",
       " 'context': [Document(metadata={'producer': 'macOS Version 14.4.1 (Build 23E224) Quartz PDFContext', 'creator': 'Pages', 'creationdate': \"D:20250805010313Z00'00'\", 'source': 'rag_dataset/FASB.pdf', 'file_path': 'rag_dataset/FASB.pdf', 'total_pages': 78, 'format': 'PDF 1.3', 'title': 'FASB', 'author': '', 'subject': '', 'keywords': '', 'moddate': \"D:20250805010313Z00'00'\", 'trapped': '', 'modDate': \"D:20250805010313Z00'00'\", 'creationDate': \"D:20250805010313Z00'00'\", 'page': 30, '_id': 'a6b46ce53475444da94dda08691b52cb', '_collection_name': 'e7a04e6639da46cd8af1eb0ad013b8af'}, page_content='cost as a separate category in accordance with paragraph 220-40-50-22(p). \\n220-40-55-24 Entity X provides the following disclosure. \\n20X4 20X3 20X2 \\nDepreciation $ 164,232 $ 146,403 $ 145,907 \\nOperating lease expense 152,445 103,239 149,842 \\nOther occupancy expenses (a) 59,910 30,233 53,930 \\n$ 376,587 $ 279,875 $ 349,679 \\n(a) \\nIntangible asset amortization $ 13,139 $ 10,980 $ 10,068 \\nOther (b) 17,374 10,419 14,736 \\n$ 30,513 $ 21,399 $ 24,804 \\n(b) Other consists primarily of regulatory licensing fees and charitable contributions for the \\nyears ended \\nDecember 31, 20X4, 20X3, and 20X2. \\nDisaggregation of Relevant Expense Captions \\nOccupancy and depreciation expense \\nOccupancy and depreciation expense \\nTotal occupancy and depreciation expense \\nOther occupancy expenses consist primarily of repair and maintenance expense for the years \\nended \\nDecember 31, 20X4, 20X3, and 20X2. \\nOther \\nOther \\nTotal other \\n220-40-55-25 In addition to the tabular format disclosure illustrated in \\nparagraph 220-40-55-24, Entity X also must disclose its selling expenses and \\n49 \\nhow it defines selling expenses in accordance with paragraphs 220-40-50-35 \\nthrough 50-36. \\nSelling Expenses \\nDuring the years ended December 31, 20X4, 20X3, and 20X2, the entity \\ndefined selling expenses to be the same as its advertising and marketing \\nexpenses, which are presented on the face of its consolidated income \\nstatement. The entity’s advertising and marketing expenses include \\ncosts incurred for advertising, market research, and business \\ndevelopment. \\nTransition and Open Effective Date Information \\nGeneral \\n> Transition Related to Accounting Standards Update No. 2024-03, \\nIncome Statement—Reporting Comprehensive Income—Expense \\nDisaggregation Disclosures (Subtopic 220-40): Disaggregation of \\nIncome Statement Expenses \\n220-40-65-1 The following represents the transition and effective date \\ninformation related to Accounting Standards Update No. 2024-03, Income \\nStatement—Reporting Comprehensive Income—Expense Disaggregation \\nDisclosures (Subtopic 220-40): Disaggregation of Income Statement \\nExpenses: \\nEffective date and early adoption \\na. The pending content that links to this paragraph shall be effective for \\npublic business entities for annual reporting periods beginning after \\nDecember 15, 2026, and interim reporting periods beginning after \\nDecember 15, 2027. Early adoption is permitted. \\nTransition method \\nb. A public business entity shall apply the pending content that links to this'),\n",
       "  Document(metadata={'producer': 'macOS Version 14.4.1 (Build 23E224) Quartz PDFContext', 'creator': 'Pages', 'creationdate': \"D:20250805010313Z00'00'\", 'source': 'rag_dataset/FASB.pdf', 'file_path': 'rag_dataset/FASB.pdf', 'total_pages': 78, 'format': 'PDF 1.3', 'title': 'FASB', 'author': '', 'subject': '', 'keywords': '', 'moddate': \"D:20250805010313Z00'00'\", 'trapped': '', 'modDate': \"D:20250805010313Z00'00'\", 'creationDate': \"D:20250805010313Z00'00'\", 'page': 17, '_id': '3f9bbc9322ac44fa91b98c64cf8a2ca6', '_collection_name': 'e7a04e6639da46cd8af1eb0ad013b8af'}, page_content='10-50-1(a) and 350-30-50-2(a)(2), respectively, and with the classification of \\namounts described in paragraph 220-40-50-10. \\n220-40-50-10 Amortization of a right-of-use asset for a finance lease \\nrecognized in accordance with paragraphs 842-20-35-7 through 35-8 and \\namortization of leasehold improvements recognized in accordance with \\nparagraphs 842-20-35-12 through 35-13 shall be disclosed in a manner \\nconsistent with how an entity presents depreciation or amortization of similar \\nassets (see paragraph 842-20-45-4(a)). That is, amounts shall be included as \\npart of either depreciation in paragraph 220-40-50-6(c) or intangible asset \\namortization in paragraph 220-40-50-6(d). \\n220-40-50-11 In determining the amounts to be disclosed in paragraph 220- \\n40-50-6(e), an entity also shall include amounts for depletion expense that are \\nnot recognized as part of oil- and gas-producing activities in accordance with \\nSubtopic 932-360 (such as depletion expense recognized by entities within the \\nscope of Topic 930 on mining). \\n• • > Identification of Relevant Expense Captions \\n220-40-50-12 For the purposes of applying the guidance in this Subtopic, a \\nrelevant expense caption is an expense caption presented on the face of the \\nincome statement in continuing operations that contains any of the expenses \\n29 \\nlisted in paragraph 220-40-50-6 (including those described in paragraphs 220- \\n40-50-10 through 50-11). A relevant expense caption that consists entirely of \\none expense category listed in paragraph 220-40-50-6 is not subject to the \\nrequirements of this Subtopic. For example, if depreciation is a relevant \\nexpense caption on the income statement and the caption consists entirely of \\ndepreciation in accordance with paragraph 220-40-50-6(c), no additional \\ndisclosure is required because the information in the income statement \\nsatisfies the disclosure requirements in this Subtopic. In contrast, if the relevant \\nexpense caption comprises depreciation and intangible asset amortization, an \\nentity would be required to separately disclose depreciation and intangible \\nasset amortization in accordance with paragraph 220-40-50-6(c) through (d), \\nrespectively. Furthermore, in accordance with paragraph 220-40-50-31, when \\na relevant expense caption contains amounts within the scope of Topic 330, \\nan entity shall apply its chosen basis for disaggregating amounts within the \\nscope of Topic 330 to the expense categories listed in paragraph 220-40-50-6. \\n220-40-50-13 An entity’s share of earnings or losses from investments \\naccounted for under the equity method in accordance with paragraph 323-10- \\n45-1 is not a relevant expense caption for purposes of applying the guidance \\nin this Subtopic. Additionally, an entity is not required to further disaggregate \\nits disclosure of summarized information of results of operations of investments \\naccounted for under the equity method in accordance with paragraph 323-10- \\n50-3(c). \\n• • • > Certain Asset-Related Expenses'),\n",
       "  Document(metadata={'producer': 'macOS Version 14.4.1 (Build 23E224) Quartz PDFContext', 'creator': 'Pages', 'creationdate': \"D:20250805010313Z00'00'\", 'source': 'rag_dataset/FASB.pdf', 'file_path': 'rag_dataset/FASB.pdf', 'total_pages': 78, 'format': 'PDF 1.3', 'title': 'FASB', 'author': '', 'subject': '', 'keywords': '', 'moddate': \"D:20250805010313Z00'00'\", 'trapped': '', 'modDate': \"D:20250805010313Z00'00'\", 'creationDate': \"D:20250805010313Z00'00'\", 'page': 20, '_id': '37129232c0864b9f809215aac93e7cab', '_collection_name': 'e7a04e6639da46cd8af1eb0ad013b8af'}, page_content='format disclosures if an expense caption is a relevant expense caption in \\naccordance with paragraphs 220-40-50-12 through 50-13. \\n220-40-50-25 To illustrate the application of the requirements in paragraph \\n220-40-50-22, if cost of sales was a relevant expense caption (because cost of \\nsales includes purchases of inventory described in paragraph 220-40-50-6(a)) \\nand if amortization of costs to fulfill a contract with a customer was recognized \\nentirely in cost of sales and not in multiple expense captions presented on the \\nface of the income statement, then amortization of costs to fulfill a contract with \\na customer would be required to be included as a separate category in the \\ntabular format disclosure in addition to the categories required by paragraph \\n220-40-50-6.'),\n",
       "  Document(metadata={'producer': 'macOS Version 14.4.1 (Build 23E224) Quartz PDFContext', 'creator': 'Pages', 'creationdate': \"D:20250805010313Z00'00'\", 'source': 'rag_dataset/FASB.pdf', 'file_path': 'rag_dataset/FASB.pdf', 'total_pages': 78, 'format': 'PDF 1.3', 'title': 'FASB', 'author': '', 'subject': '', 'keywords': '', 'moddate': \"D:20250805010313Z00'00'\", 'trapped': '', 'modDate': \"D:20250805010313Z00'00'\", 'creationDate': \"D:20250805010313Z00'00'\", 'page': 75, '_id': 'ea2267a3cdc3443d831745e21d9e8910', '_collection_name': 'e7a04e6639da46cd8af1eb0ad013b8af'}, page_content='through 50-22, whereas IFRS 18 requires that those amounts be \\ndisclosed. \\n118 \\nIn addition to the disclosure requirements discussed above, IFRS 18 \\nestablishes new presentation requirements for financial statements as well as \\ndisclosure requirements for management’s performance metrics. \\nBC149. The Board expects that investors will benefit from increased')],\n",
       " 'response': \"I don't know\"}"
      ]
     },
     "execution_count": 60,
     "metadata": {},
     "output_type": "execute_result"
    }
   ],
   "source": [
    "rag_graph.invoke({\"question\" : \"When do I recognize revenue?\"})"
   ]
  },
  {
   "cell_type": "code",
   "execution_count": 61,
   "id": "64d805a5",
   "metadata": {},
   "outputs": [],
   "source": [
    "from typing import Any, Callable, List, Optional, TypedDict, Union\n",
    "\n",
    "from langchain.agents import AgentExecutor, create_openai_functions_agent\n",
    "from langchain.output_parsers.openai_functions import JsonOutputFunctionsParser\n",
    "from langchain_core.prompts import ChatPromptTemplate, MessagesPlaceholder\n",
    "from langchain_core.messages import AIMessage, BaseMessage, HumanMessage\n",
    "from langchain_core.runnables import Runnable\n",
    "from langchain_core.tools import BaseTool\n",
    "from langchain_openai import ChatOpenAI\n",
    "\n",
    "from langgraph.graph import END, StateGraph"
   ]
  },
  {
   "cell_type": "code",
   "execution_count": 62,
   "id": "210f6520",
   "metadata": {},
   "outputs": [],
   "source": [
    "def agent_node(state, agent, name):\n",
    "    result = agent.invoke(state)\n",
    "    return {\"messages\": [HumanMessage(content=result[\"output\"], name=name)]}"
   ]
  },
  {
   "cell_type": "code",
   "execution_count": 63,
   "id": "fade663b",
   "metadata": {},
   "outputs": [],
   "source": [
    "def create_agent(\n",
    "    llm: ChatOpenAI,\n",
    "    tools: list,\n",
    "    system_prompt: str,\n",
    ") -> str:\n",
    "    \"\"\"Create a function-calling agent and add it to the graph.\"\"\"\n",
    "    system_prompt += (\"\\nYou are an accounting and finance expert, use the tools available to you to answer the questions. Say I don't know if the question is not within the domain of accounting and finance.\"\n",
    "    \" Do not ask for clarification.\"\n",
    "    \" Your other team members (and other teams) will collaborate with you with their own specialties.\"\n",
    "    \" You are chosen for a reason!\")\n",
    "    prompt = ChatPromptTemplate.from_messages(\n",
    "        [\n",
    "            (\n",
    "                \"system\",\n",
    "                system_prompt,\n",
    "            ),\n",
    "            MessagesPlaceholder(variable_name=\"messages\"),\n",
    "            MessagesPlaceholder(variable_name=\"agent_scratchpad\"),\n",
    "        ]\n",
    "    )\n",
    "    agent = create_openai_functions_agent(llm, tools, prompt)\n",
    "    executor = AgentExecutor(agent=agent, tools=tools)\n",
    "    return executor"
   ]
  },
  {
   "cell_type": "code",
   "execution_count": 64,
   "id": "704f2cd8",
   "metadata": {},
   "outputs": [],
   "source": [
    "def create_team_supervisor(llm: ChatOpenAI, system_prompt, members) -> str:\n",
    "    \"\"\"An LLM-based router.\"\"\"\n",
    "    options = [\"FINISH\"] + members\n",
    "    function_def = {\n",
    "        \"name\": \"route\",\n",
    "        \"description\": \"Select the next role.\",\n",
    "        \"parameters\": {\n",
    "            \"title\": \"routeSchema\",\n",
    "            \"type\": \"object\",\n",
    "            \"properties\": {\n",
    "                \"next\": {\n",
    "                    \"title\": \"Next\",\n",
    "                    \"anyOf\": [\n",
    "                        {\"enum\": options},\n",
    "                    ],\n",
    "                },\n",
    "            },\n",
    "            \"required\": [\"next\"],\n",
    "        },\n",
    "    }\n",
    "    prompt = ChatPromptTemplate.from_messages(\n",
    "        [\n",
    "            (\"system\", system_prompt),\n",
    "            MessagesPlaceholder(variable_name=\"messages\"),\n",
    "            (\n",
    "                \"system\",\n",
    "                \"Given the conversation above, who should act next?\"\n",
    "                \" Or should we FINISH? Select one of: {options}\",\n",
    "            ),\n",
    "        ]\n",
    "    ).partial(options=str(options), team_members=\", \".join(members))\n",
    "    return (\n",
    "        prompt\n",
    "        | llm.bind_functions(functions=[function_def], function_call=\"route\")\n",
    "        | JsonOutputFunctionsParser()\n",
    "    )"
   ]
  },
  {
   "cell_type": "code",
   "execution_count": 65,
   "id": "81c03430",
   "metadata": {},
   "outputs": [],
   "source": [
    "from langchain_community.tools.tavily_search import TavilySearchResults\n",
    "\n",
    "tavily_tool = TavilySearchResults(max_results=5)"
   ]
  },
  {
   "cell_type": "code",
   "execution_count": 66,
   "id": "831e918a",
   "metadata": {},
   "outputs": [],
   "source": [
    "from langchain.retrievers.contextual_compression import ContextualCompressionRetriever\n",
    "from langchain_cohere import CohereRerank\n",
    "\n",
    "compressor = CohereRerank(model=\"rerank-v3.5\")\n",
    "compression_retriever = ContextualCompressionRetriever(\n",
    "    base_compressor=compressor, base_retriever=rag_graph\n",
    ")"
   ]
  },
  {
   "cell_type": "code",
   "execution_count": 67,
   "id": "d9e0d4d6",
   "metadata": {},
   "outputs": [],
   "source": [
    "contextual_compression_retrieval_chain = (\n",
    "    {\n",
    "        \"context\": itemgetter(\"question\") | compression_retriever,\n",
    "        \"question\": itemgetter(\"question\"),\n",
    "    }\n",
    "    | {\"response\": chat_prompt | openai_chat_model,\n",
    "       \"context\": itemgetter(\"context\")}\n",
    ")\n"
   ]
  },
  {
   "cell_type": "code",
   "execution_count": 82,
   "id": "177db3d9",
   "metadata": {},
   "outputs": [],
   "source": [
    "from typing import Annotated, List, Tuple, Union\n",
    "from langchain_core.tools import tool\n",
    "\n",
    "@tool\n",
    "def retrieve_information(\n",
    "    query: Annotated[str, \"query to ask the retrieve information tool\"]\n",
    "    ):\n",
    "  \"\"\"Use Retrieval Augmented Generation to retrieve information about finance policies and variances\"\"\"\n",
    "  return rag_graph.invoke({\"question\" : query})"
   ]
  },
  {
   "cell_type": "code",
   "execution_count": 84,
   "id": "2182592d",
   "metadata": {},
   "outputs": [],
   "source": [
    "import functools\n",
    "import operator\n",
    "\n",
    "from langchain_core.messages import AIMessage, BaseMessage, HumanMessage\n",
    "from langchain_openai.chat_models import ChatOpenAI\n",
    "import functools\n",
    "\n",
    "class ResearchTeamState(TypedDict):\n",
    "    messages: Annotated[List[BaseMessage], operator.add]\n",
    "    team_members: List[str]\n",
    "    next: str"
   ]
  },
  {
   "cell_type": "code",
   "execution_count": 85,
   "id": "9b4951f4",
   "metadata": {},
   "outputs": [],
   "source": [
    "llm = ChatOpenAI(model=\"gpt-4o-mini\")"
   ]
  },
  {
   "cell_type": "code",
   "execution_count": 86,
   "id": "ee2217af",
   "metadata": {},
   "outputs": [],
   "source": [
    "search_agent = create_agent(\n",
    "    llm,\n",
    "    [tavily_tool],\n",
    "    \"You are an accounting and finance assistant who can search for up-to-date info using the tavily search engine.  Answer I don't know if the query is not about accounting and finance.\",\n",
    ")\n",
    "search_node = functools.partial(agent_node, agent=search_agent, name=\"Search\")"
   ]
  },
  {
   "cell_type": "code",
   "execution_count": 87,
   "id": "39a1e6bd",
   "metadata": {},
   "outputs": [],
   "source": [
    "research_agent = create_agent(\n",
    "    llm,\n",
    "    [retrieve_information],\n",
    "    \"You are a research assistant who can provide specific information on accounting and finance policies and methods. Say I don't know if you don't know the answer.\",\n",
    ")\n",
    "research_node = functools.partial(agent_node, agent=research_agent, name=\"FinanceRetriever\")"
   ]
  },
  {
   "cell_type": "code",
   "execution_count": 88,
   "id": "43fc7e4a",
   "metadata": {},
   "outputs": [],
   "source": [
    "supervisor_agent = create_team_supervisor(\n",
    "    llm,\n",
    "    (\"You are a supervisor tasked with managing a conversation between the\"\n",
    "    \" following workers:  Search, FinanceRetriever. Given the following user request,\"\n",
    "    \" determine the subject to be researched and respond with the worker to act next. Each worker will perform a\"\n",
    "    \" task and respond with their results and status. \"\n",
    "    \" You should never ask your team to do anything beyond research. They are not required to write content or posts.\"\n",
    "    \" You should only pass tasks to workers that are specifically research focused.\"\n",
    "    \" When finished, respond with FINISH.\"),\n",
    "    [\"Search\", \"FinanceRetriever\"],\n",
    ")"
   ]
  },
  {
   "cell_type": "code",
   "execution_count": 89,
   "id": "ad1857fc",
   "metadata": {},
   "outputs": [
    {
     "data": {
      "text/plain": [
       "<langgraph.graph.state.StateGraph at 0x15e16b230>"
      ]
     },
     "execution_count": 89,
     "metadata": {},
     "output_type": "execute_result"
    }
   ],
   "source": [
    "research_graph = StateGraph(ResearchTeamState)\n",
    "\n",
    "research_graph.add_node(\"Search\", search_node)\n",
    "research_graph.add_node(\"FinanceRetriever\", research_node)\n",
    "research_graph.add_node(\"supervisor\", supervisor_agent)"
   ]
  },
  {
   "cell_type": "code",
   "execution_count": 90,
   "id": "d6319ed0",
   "metadata": {},
   "outputs": [
    {
     "data": {
      "text/plain": [
       "<langgraph.graph.state.StateGraph at 0x15e16b230>"
      ]
     },
     "execution_count": 90,
     "metadata": {},
     "output_type": "execute_result"
    }
   ],
   "source": [
    "research_graph.add_edge(\"Search\", \"supervisor\")\n",
    "research_graph.add_edge(\"FinanceRetriever\", \"supervisor\")\n",
    "research_graph.add_conditional_edges(\n",
    "    \"supervisor\",\n",
    "    lambda x: x[\"next\"],\n",
    "    {\"Search\": \"Search\", \"FinanceRetriever\": \"FinanceRetriever\", \"FINISH\": END},\n",
    ")"
   ]
  },
  {
   "cell_type": "code",
   "execution_count": 91,
   "id": "e89b949c",
   "metadata": {},
   "outputs": [],
   "source": [
    "research_graph.set_entry_point(\"supervisor\")\n",
    "compiled_research_graph = research_graph.compile()"
   ]
  },
  {
   "cell_type": "code",
   "execution_count": 92,
   "id": "07fd25d4",
   "metadata": {},
   "outputs": [],
   "source": [
    "import nest_asyncio\n",
    "nest_asyncio.apply()"
   ]
  },
  {
   "cell_type": "code",
   "execution_count": 93,
   "id": "0a8228cc",
   "metadata": {},
   "outputs": [
    {
     "data": {
      "image/png": "[encoded data removed]",
      "text/plain": [
       "<IPython.core.display.Image object>"
      ]
     },
     "metadata": {},
     "output_type": "display_data"
    }
   ],
   "source": [
    "from IPython.display import Image, display\n",
    "from langchain_core.runnables.graph import CurveStyle, MermaidDrawMethod, NodeStyles\n",
    "\n",
    "display(\n",
    "    Image(\n",
    "        compiled_research_graph.get_graph().draw_mermaid_png(\n",
    "            curve_style=CurveStyle.LINEAR,\n",
    "            node_colors=NodeStyles(first=\"#ffdfba\", last=\"#baffc9\", default=\"#fad7de\"),\n",
    "            wrap_label_n_words=9,\n",
    "            output_file_path=None,\n",
    "            draw_method=MermaidDrawMethod.PYPPETEER,\n",
    "            background_color=\"white\",\n",
    "            padding=10,\n",
    "        )\n",
    "    )\n",
    ")"
   ]
  },
  {
   "cell_type": "code",
   "execution_count": 94,
   "id": "7683cd29",
   "metadata": {},
   "outputs": [],
   "source": [
    "def enter_chain(message: str):\n",
    "    results = {\n",
    "        \"messages\": [HumanMessage(content=message)],\n",
    "    }\n",
    "    return results\n",
    "\n",
    "research_chain = enter_chain | compiled_research_graph"
   ]
  },
  {
   "cell_type": "code",
   "execution_count": 95,
   "id": "3f79c2d8",
   "metadata": {},
   "outputs": [
    {
     "name": "stdout",
     "output_type": "stream",
     "text": [
      "{'supervisor': {'next': 'FinanceRetriever'}}\n",
      "---\n",
      "{'FinanceRetriever': {'messages': [HumanMessage(content=\"I don't know.\", additional_kwargs={}, response_metadata={}, name='FinanceRetriever')]}}\n",
      "---\n",
      "{'supervisor': {'next': 'Search'}}\n",
      "---\n",
      "{'Search': {'messages': [HumanMessage(content=\"I don't know.\", additional_kwargs={}, response_metadata={}, name='Search')]}}\n",
      "---\n",
      "{'supervisor': {'next': 'FinanceRetriever'}}\n",
      "---\n",
      "{'FinanceRetriever': {'messages': [HumanMessage(content=\"I don't know.\", additional_kwargs={}, response_metadata={}, name='FinanceRetriever')]}}\n",
      "---\n",
      "{'supervisor': {'next': 'FinanceRetriever'}}\n",
      "---\n",
      "{'FinanceRetriever': {'messages': [HumanMessage(content=\"I don't know.\", additional_kwargs={}, response_metadata={}, name='FinanceRetriever')]}}\n",
      "---\n",
      "{'supervisor': {'next': 'FinanceRetriever'}}\n",
      "---\n",
      "{'FinanceRetriever': {'messages': [HumanMessage(content=\"I don't know.\", additional_kwargs={}, response_metadata={}, name='FinanceRetriever')]}}\n",
      "---\n",
      "{'supervisor': {'next': 'FinanceRetriever'}}\n",
      "---\n",
      "{'FinanceRetriever': {'messages': [HumanMessage(content=\"I don't know.\", additional_kwargs={}, response_metadata={}, name='FinanceRetriever')]}}\n",
      "---\n",
      "{'supervisor': {'next': 'FinanceRetriever'}}\n",
      "---\n",
      "{'FinanceRetriever': {'messages': [HumanMessage(content=\"I don't know.\", additional_kwargs={}, response_metadata={}, name='FinanceRetriever')]}}\n",
      "---\n",
      "{'supervisor': {'next': 'Search'}}\n",
      "---\n",
      "{'Search': {'messages': [HumanMessage(content=\"I don't know.\", additional_kwargs={}, response_metadata={}, name='Search')]}}\n",
      "---\n",
      "{'supervisor': {'next': 'Search'}}\n",
      "---\n",
      "{'Search': {'messages': [HumanMessage(content=\"I don't know.\", additional_kwargs={}, response_metadata={}, name='Search')]}}\n",
      "---\n",
      "{'supervisor': {'next': 'Search'}}\n",
      "---\n",
      "{'Search': {'messages': [HumanMessage(content=\"I don't know.\", additional_kwargs={}, response_metadata={}, name='Search')]}}\n",
      "---\n",
      "{'supervisor': {'next': 'Search'}}\n",
      "---\n",
      "{'Search': {'messages': [HumanMessage(content=\"I don't know.\", additional_kwargs={}, response_metadata={}, name='Search')]}}\n",
      "---\n",
      "{'supervisor': {'next': 'Search'}}\n",
      "---\n",
      "{'Search': {'messages': [HumanMessage(content=\"I don't know.\", additional_kwargs={}, response_metadata={}, name='Search')]}}\n",
      "---\n",
      "{'supervisor': {'next': 'Search'}}\n",
      "---\n",
      "{'Search': {'messages': [HumanMessage(content=\"I don't know.\", additional_kwargs={}, response_metadata={}, name='Search')]}}\n",
      "---\n",
      "{'supervisor': {'next': 'Search'}}\n",
      "---\n",
      "{'Search': {'messages': [HumanMessage(content=\"In March 2024, company performance showed a generally positive trend across major indices. Here are some key insights:\\n\\n1. **Global Equities**: Global equities rose by 3.4%, marking the fifth consecutive month of gains, with the MSCI ACWI Index reaching record highs. The S&P 500 Index increased by 3.2%, with all sectors delivering positive results. The best performing sector was Energy, with a rise of 10.6%.\\n\\n2. **Index Performance**: The Russell 2000 (small-cap stocks) outperformed large-cap stocks, rising by 3.6%, while the Dow Jones Industrial Average rose by 2.2%, and the NASDAQ added 1.9%. \\n\\n3. **Sector Performance**: Sectors such as Utilities and Materials also showed strong performance, with Utilities growing by 6.6% and Materials by 6.5%. \\n\\n4. **Consumer and Economic Indicators**: The manufacturing sector expanded in March, with the ISM Manufacturing Index rising to 50.3, indicating stronger demand compared to previous months. Consumer spending increased, and the Consumer Price Index saw a rise of 0.4% for the month.\\n\\nOverall, March's performance highlighted a bullish trend in the stock market with broad sector participation and signs of improving economic activity. For detailed data, you can check the full reports [here](https://www.wellington.com/en/insights/monthly-market-snapshot-march-2024) and [here](https://get.ycharts.com/resources/blog/monthly-market-wrap-march-2024/).\", additional_kwargs={}, response_metadata={}, name='Search')]}}\n",
      "---\n",
      "{'supervisor': {'next': 'FINISH'}}\n",
      "---\n"
     ]
    }
   ],
   "source": [
    "for s in research_chain.stream(\n",
    "    \"How was the company performance in March\", {\"recursion_limit\": 100}\n",
    "):\n",
    "    if \"__end__\" not in s:\n",
    "        print(s)\n",
    "        print(\"---\")"
   ]
  }
 ],
 "metadata": {
  "kernelspec": {
   "display_name": ".venv",
   "language": "python",
   "name": "python3"
  },
  "language_info": {
   "codemirror_mode": {
    "name": "ipython",
    "version": 3
   },
   "file_extension": ".py",
   "mimetype": "text/x-python",
   "name": "python",
   "nbconvert_exporter": "python",
   "pygments_lexer": "ipython3",
   "version": "3.13.5"
  }
 },
 "nbformat": 4,
 "nbformat_minor": 5
}
